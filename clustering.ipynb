{
 "cells": [
  {
   "cell_type": "code",
   "execution_count": 103,
   "id": "f99ab338",
   "metadata": {},
   "outputs": [],
   "source": [
    "import pandas as pd\n",
    "from sklearn.feature_extraction.text import TfidfVectorizer\n",
    "import numpy as np\n",
    "from sklearn.cluster import KMeans\n"
   ]
  },
  {
   "cell_type": "code",
   "execution_count": 2,
   "id": "a6814073",
   "metadata": {},
   "outputs": [],
   "source": [
    "df = pd.read_csv(\"reviews.csv\")"
   ]
  },
  {
   "cell_type": "code",
   "execution_count": 3,
   "id": "3d0f5ab2",
   "metadata": {},
   "outputs": [
    {
     "data": {
      "text/html": [
       "<div>\n",
       "<style scoped>\n",
       "    .dataframe tbody tr th:only-of-type {\n",
       "        vertical-align: middle;\n",
       "    }\n",
       "\n",
       "    .dataframe tbody tr th {\n",
       "        vertical-align: top;\n",
       "    }\n",
       "\n",
       "    .dataframe thead th {\n",
       "        text-align: right;\n",
       "    }\n",
       "</style>\n",
       "<table border=\"1\" class=\"dataframe\">\n",
       "  <thead>\n",
       "    <tr style=\"text-align: right;\">\n",
       "      <th></th>\n",
       "      <th>Unnamed: 0</th>\n",
       "      <th>reviewId</th>\n",
       "      <th>userName</th>\n",
       "      <th>userImage</th>\n",
       "      <th>content</th>\n",
       "      <th>score</th>\n",
       "      <th>thumbsUpCount</th>\n",
       "      <th>reviewCreatedVersion</th>\n",
       "      <th>at</th>\n",
       "      <th>replyContent</th>\n",
       "      <th>repliedAt</th>\n",
       "      <th>insert_date_</th>\n",
       "      <th>_id</th>\n",
       "    </tr>\n",
       "  </thead>\n",
       "  <tbody>\n",
       "    <tr>\n",
       "      <th>0</th>\n",
       "      <td>0</td>\n",
       "      <td>000b4c8b-3680-4b3a-8d0e-77cca60acbaa</td>\n",
       "      <td>Abhishek Kumar Gupta</td>\n",
       "      <td>https://play-lh.googleusercontent.com/a-/AFdZu...</td>\n",
       "      <td>A good app for beginners!</td>\n",
       "      <td>5</td>\n",
       "      <td>0</td>\n",
       "      <td>2.8.4</td>\n",
       "      <td>2022-08-12T07:53:11</td>\n",
       "      <td>NaN</td>\n",
       "      <td>NaN</td>\n",
       "      <td>2022-08-19T02:24:38.227Z</td>\n",
       "      <td>000b4c8b-3680-4b3a-8d0e-77cca60acbaa</td>\n",
       "    </tr>\n",
       "    <tr>\n",
       "      <th>1</th>\n",
       "      <td>1</td>\n",
       "      <td>001263ea-8b3e-4631-b123-25f27f1ea75b</td>\n",
       "      <td>A Google user</td>\n",
       "      <td>https://play-lh.googleusercontent.com/EGemoI2N...</td>\n",
       "      <td>Loving the new look! Much more accessible than...</td>\n",
       "      <td>5</td>\n",
       "      <td>0</td>\n",
       "      <td>1.6.11</td>\n",
       "      <td>2020-02-23T05:38:20</td>\n",
       "      <td>NaN</td>\n",
       "      <td>NaN</td>\n",
       "      <td>2022-08-19T02:24:38.175Z</td>\n",
       "      <td>001263ea-8b3e-4631-b123-25f27f1ea75b</td>\n",
       "    </tr>\n",
       "    <tr>\n",
       "      <th>2</th>\n",
       "      <td>2</td>\n",
       "      <td>00606ba6-6c53-43b4-8118-65fe2ed4b42b</td>\n",
       "      <td>MA Barka</td>\n",
       "      <td>https://play-lh.googleusercontent.com/a-/AFdZu...</td>\n",
       "      <td>Make a pay for download I downloaded it and re...</td>\n",
       "      <td>2</td>\n",
       "      <td>0</td>\n",
       "      <td>NaN</td>\n",
       "      <td>2021-10-28T14:27:45</td>\n",
       "      <td>Hey there, we have 2500+ expert-written lesson...</td>\n",
       "      <td>2021-10-29T12:55:52</td>\n",
       "      <td>2022-08-19T02:24:38.174Z</td>\n",
       "      <td>00606ba6-6c53-43b4-8118-65fe2ed4b42b</td>\n",
       "    </tr>\n",
       "    <tr>\n",
       "      <th>3</th>\n",
       "      <td>3</td>\n",
       "      <td>0073a9e4-0c35-4757-ac22-f75a97d0bdaa</td>\n",
       "      <td>Rico Randall</td>\n",
       "      <td>https://play-lh.googleusercontent.com/a-/AFdZu...</td>\n",
       "      <td>I just started it but it's pretty awesome so f...</td>\n",
       "      <td>5</td>\n",
       "      <td>0</td>\n",
       "      <td>1.14.5</td>\n",
       "      <td>2020-11-12T08:10:35</td>\n",
       "      <td>NaN</td>\n",
       "      <td>NaN</td>\n",
       "      <td>2022-08-19T02:24:38.228Z</td>\n",
       "      <td>0073a9e4-0c35-4757-ac22-f75a97d0bdaa</td>\n",
       "    </tr>\n",
       "    <tr>\n",
       "      <th>4</th>\n",
       "      <td>4</td>\n",
       "      <td>010b5443-66da-47d7-9b75-4a423f1ef83b</td>\n",
       "      <td>A Google user</td>\n",
       "      <td>https://play-lh.googleusercontent.com/EGemoI2N...</td>\n",
       "      <td>Nothing work, register button is disabled, don...</td>\n",
       "      <td>1</td>\n",
       "      <td>0</td>\n",
       "      <td>1.3.1</td>\n",
       "      <td>2019-10-11T12:44:41</td>\n",
       "      <td>Hi Daniel, sorry you're having issues. Could y...</td>\n",
       "      <td>2019-10-12T15:06:57</td>\n",
       "      <td>2022-08-19T02:24:38.173Z</td>\n",
       "      <td>010b5443-66da-47d7-9b75-4a423f1ef83b</td>\n",
       "    </tr>\n",
       "  </tbody>\n",
       "</table>\n",
       "</div>"
      ],
      "text/plain": [
       "   Unnamed: 0                              reviewId              userName  \\\n",
       "0           0  000b4c8b-3680-4b3a-8d0e-77cca60acbaa  Abhishek Kumar Gupta   \n",
       "1           1  001263ea-8b3e-4631-b123-25f27f1ea75b         A Google user   \n",
       "2           2  00606ba6-6c53-43b4-8118-65fe2ed4b42b              MA Barka   \n",
       "3           3  0073a9e4-0c35-4757-ac22-f75a97d0bdaa          Rico Randall   \n",
       "4           4  010b5443-66da-47d7-9b75-4a423f1ef83b         A Google user   \n",
       "\n",
       "                                           userImage  \\\n",
       "0  https://play-lh.googleusercontent.com/a-/AFdZu...   \n",
       "1  https://play-lh.googleusercontent.com/EGemoI2N...   \n",
       "2  https://play-lh.googleusercontent.com/a-/AFdZu...   \n",
       "3  https://play-lh.googleusercontent.com/a-/AFdZu...   \n",
       "4  https://play-lh.googleusercontent.com/EGemoI2N...   \n",
       "\n",
       "                                             content  score  thumbsUpCount  \\\n",
       "0                          A good app for beginners!      5              0   \n",
       "1  Loving the new look! Much more accessible than...      5              0   \n",
       "2  Make a pay for download I downloaded it and re...      2              0   \n",
       "3  I just started it but it's pretty awesome so f...      5              0   \n",
       "4  Nothing work, register button is disabled, don...      1              0   \n",
       "\n",
       "  reviewCreatedVersion                   at  \\\n",
       "0                2.8.4  2022-08-12T07:53:11   \n",
       "1               1.6.11  2020-02-23T05:38:20   \n",
       "2                  NaN  2021-10-28T14:27:45   \n",
       "3               1.14.5  2020-11-12T08:10:35   \n",
       "4                1.3.1  2019-10-11T12:44:41   \n",
       "\n",
       "                                        replyContent            repliedAt  \\\n",
       "0                                                NaN                  NaN   \n",
       "1                                                NaN                  NaN   \n",
       "2  Hey there, we have 2500+ expert-written lesson...  2021-10-29T12:55:52   \n",
       "3                                                NaN                  NaN   \n",
       "4  Hi Daniel, sorry you're having issues. Could y...  2019-10-12T15:06:57   \n",
       "\n",
       "               insert_date_                                   _id  \n",
       "0  2022-08-19T02:24:38.227Z  000b4c8b-3680-4b3a-8d0e-77cca60acbaa  \n",
       "1  2022-08-19T02:24:38.175Z  001263ea-8b3e-4631-b123-25f27f1ea75b  \n",
       "2  2022-08-19T02:24:38.174Z  00606ba6-6c53-43b4-8118-65fe2ed4b42b  \n",
       "3  2022-08-19T02:24:38.228Z  0073a9e4-0c35-4757-ac22-f75a97d0bdaa  \n",
       "4  2022-08-19T02:24:38.173Z  010b5443-66da-47d7-9b75-4a423f1ef83b  "
      ]
     },
     "execution_count": 3,
     "metadata": {},
     "output_type": "execute_result"
    }
   ],
   "source": [
    "df.head()"
   ]
  },
  {
   "cell_type": "code",
   "execution_count": 9,
   "id": "12ed5749",
   "metadata": {},
   "outputs": [],
   "source": [
    "content = df[\"content\"]"
   ]
  },
  {
   "cell_type": "code",
   "execution_count": 10,
   "id": "1b412270",
   "metadata": {},
   "outputs": [
    {
     "data": {
      "text/plain": [
       "0"
      ]
     },
     "execution_count": 10,
     "metadata": {},
     "output_type": "execute_result"
    }
   ],
   "source": [
    "content.isnull().sum()"
   ]
  },
  {
   "cell_type": "code",
   "execution_count": 12,
   "id": "e5de2d10",
   "metadata": {},
   "outputs": [],
   "source": [
    "vectoriser=TfidfVectorizer()\n",
    "X=vectoriser.fit_transform(content)"
   ]
  },
  {
   "cell_type": "code",
   "execution_count": 107,
   "id": "3c013f9a",
   "metadata": {},
   "outputs": [
    {
     "name": "stderr",
     "output_type": "stream",
     "text": [
      "/usr/local/lib/python3.8/dist-packages/sklearn/utils/deprecation.py:87: FutureWarning: Function get_feature_names is deprecated; get_feature_names is deprecated in 1.0 and will be removed in 1.2. Please use get_feature_names_out instead.\n",
      "  warnings.warn(msg, category=FutureWarning)\n"
     ]
    }
   ],
   "source": [
    "feature_names=vectoriser.get_feature_names()"
   ]
  },
  {
   "cell_type": "code",
   "execution_count": 22,
   "id": "30d130db",
   "metadata": {},
   "outputs": [],
   "source": [
    "X_mat=X.todense()"
   ]
  },
  {
   "cell_type": "code",
   "execution_count": 112,
   "id": "dddf898a",
   "metadata": {},
   "outputs": [],
   "source": [
    "sort_inds=np.argsort(-np.sum(X_mat,axis=0))[0,:100].reshape(-1)"
   ]
  },
  {
   "cell_type": "code",
   "execution_count": 113,
   "id": "b4e8575e",
   "metadata": {},
   "outputs": [
    {
     "data": {
      "text/plain": [
       "matrix([[[66.13792121, 62.69070222, 56.63382357, 54.52354662,\n",
       "          52.81116759, 44.18548223, 39.02007762, 32.59817123,\n",
       "          32.57467369, 31.84876463, 31.7626828 , 31.73344106,\n",
       "          30.86676495, 29.73769731, 28.65457074, 28.37442601,\n",
       "          26.60476777, 20.8639776 , 20.73726829, 20.32201254,\n",
       "          20.26756654, 20.11001404, 19.7691826 , 19.59724452,\n",
       "          18.30029131, 18.25260436, 18.03058547, 17.7427184 ,\n",
       "          17.50331395, 17.18197481, 16.48012948, 16.42243114,\n",
       "          16.26489184, 16.21066325, 15.97942703, 15.91264465,\n",
       "          15.8959464 , 15.38549325, 14.25131642, 13.97800016,\n",
       "          13.88799317, 13.7583321 , 13.7525546 , 13.31544583,\n",
       "          13.28464858, 12.93426599, 12.75589608, 12.04761273,\n",
       "          11.90923424, 11.65364134, 11.44843308, 11.35414974,\n",
       "          11.34201745, 11.20233087, 11.17869681, 10.94503587,\n",
       "          10.87282264, 10.75230982, 10.72464544, 10.6669553 ,\n",
       "          10.64618925, 10.34931028, 10.3080895 , 10.240129  ,\n",
       "          10.19748369, 10.11345135, 10.10826785,  9.81249211,\n",
       "           9.78201788,  9.71595662,  9.6709282 ,  9.65558284,\n",
       "           9.55737357,  9.55238589,  9.43250248,  9.41253918,\n",
       "           9.32684802,  9.3044394 ,  9.29275361,  9.22958027,\n",
       "           9.13612748,  9.12815352,  9.0745577 ,  9.06576775,\n",
       "           9.05404754,  8.950275  ,  8.94943335,  8.86392816,\n",
       "           8.83546292,  8.76322342,  8.74903938,  8.74580324,\n",
       "           8.58476795,  8.54477032,  8.52781985,  8.11550474,\n",
       "           8.01162349,  7.91129884,  7.83126029,  7.81722536]]])"
      ]
     },
     "execution_count": 113,
     "metadata": {},
     "output_type": "execute_result"
    }
   ],
   "source": [
    "np.sum(X_mat,axis=0)[:,sort_inds]"
   ]
  },
  {
   "cell_type": "code",
   "execution_count": 114,
   "id": "8a8c293b",
   "metadata": {},
   "outputs": [],
   "source": [
    "X_top=X_mat[:,sort_inds].reshape((-1,100))"
   ]
  },
  {
   "cell_type": "code",
   "execution_count": 115,
   "id": "329cc87b",
   "metadata": {},
   "outputs": [
    {
     "data": {
      "text/plain": [
       "(1000, 100)"
      ]
     },
     "execution_count": 115,
     "metadata": {},
     "output_type": "execute_result"
    }
   ],
   "source": [
    "# we're using the top 100\n",
    "X_top.shape"
   ]
  },
  {
   "cell_type": "code",
   "execution_count": 104,
   "id": "98a1b659",
   "metadata": {},
   "outputs": [
    {
     "name": "stderr",
     "output_type": "stream",
     "text": [
      "/usr/local/lib/python3.8/dist-packages/sklearn/utils/validation.py:593: FutureWarning: np.matrix usage is deprecated in 1.0 and will raise a TypeError in 1.2. Please convert to a numpy array with np.asarray. For more information see: https://numpy.org/doc/stable/reference/generated/numpy.matrix.html\n",
      "  warnings.warn(\n"
     ]
    }
   ],
   "source": [
    "clustering = KMeans(n_clusters=3).fit(X_top)"
   ]
  },
  {
   "cell_type": "code",
   "execution_count": 105,
   "id": "af5bfe9d",
   "metadata": {},
   "outputs": [],
   "source": [
    "# let's go ahead and grab the labels\n",
    "c_labels=clustering.labels_"
   ]
  },
  {
   "cell_type": "code",
   "execution_count": 95,
   "id": "98f845ed",
   "metadata": {},
   "outputs": [
    {
     "data": {
      "text/plain": [
       "2      Make a pay for download I downloaded it and re...\n",
       "5      Great idea, but it has a UX that's impossible ...\n",
       "7      As soon as i finish ONE workout it quizes me a...\n",
       "8      I'm still finding my way around this app, only...\n",
       "9      Love that this app has so much variety. It's b...\n",
       "                             ...                        \n",
       "984    I don't know why. The 'Get Started' button is ...\n",
       "987    Honestly I have just started using the app and...\n",
       "988    Love the educational value, but there seems to...\n",
       "993    The app is crashing repeatedly, initially the ...\n",
       "997    It's seems resourceful so far. Although exerci...\n",
       "Name: content, Length: 382, dtype: object"
      ]
     },
     "execution_count": 95,
     "metadata": {},
     "output_type": "execute_result"
    }
   ],
   "source": [
    "content[c_labels==0]"
   ]
  },
  {
   "cell_type": "code",
   "execution_count": 96,
   "id": "76153f46",
   "metadata": {},
   "outputs": [
    {
     "data": {
      "text/plain": [
       "3      I just started it but it's pretty awesome so f...\n",
       "6       Byte sized information daily. Good way to learn.\n",
       "11     This is the app you are looking for. It has th...\n",
       "16     Superior It starts from basic programming fund...\n",
       "31     Easy to use, has relevant topics and fun way t...\n",
       "                             ...                        \n",
       "982                   easy to learn about various topics\n",
       "986    Just started using enki, it's quite nice and e...\n",
       "989    Brilliant way to learn coding new language and...\n",
       "990    it is easy to use and it makes my daily shuffl...\n",
       "994    Great app for learn and review concepts of pro...\n",
       "Name: content, Length: 152, dtype: object"
      ]
     },
     "execution_count": 96,
     "metadata": {},
     "output_type": "execute_result"
    }
   ],
   "source": [
    "content[c_labels==1]"
   ]
  },
  {
   "cell_type": "code",
   "execution_count": 97,
   "id": "73d401c6",
   "metadata": {},
   "outputs": [
    {
     "data": {
      "text/plain": [
       "0                              A good app for beginners!\n",
       "1      Loving the new look! Much more accessible than...\n",
       "4      Nothing work, register button is disabled, don...\n",
       "14     Useless app that will email you random emails....\n",
       "15          Great for the effectively using your commute\n",
       "                             ...                        \n",
       "992                                Just english content.\n",
       "995    seems great so far. the games suck. they are w...\n",
       "996           Enki is an extremely useful learning-tool.\n",
       "998    I like it very much because I feel like it kic...\n",
       "999    Really enjoying the app this time - super info...\n",
       "Name: content, Length: 466, dtype: object"
      ]
     },
     "execution_count": 97,
     "metadata": {},
     "output_type": "execute_result"
    }
   ],
   "source": [
    "content[c_labels==2]"
   ]
  },
  {
   "cell_type": "code",
   "execution_count": null,
   "id": "24518120",
   "metadata": {},
   "outputs": [],
   "source": []
  }
 ],
 "metadata": {
  "kernelspec": {
   "display_name": "Python 3 (ipykernel)",
   "language": "python",
   "name": "python3"
  },
  "language_info": {
   "codemirror_mode": {
    "name": "ipython",
    "version": 3
   },
   "file_extension": ".py",
   "mimetype": "text/x-python",
   "name": "python",
   "nbconvert_exporter": "python",
   "pygments_lexer": "ipython3",
   "version": "3.8.10"
  }
 },
 "nbformat": 4,
 "nbformat_minor": 5
}
